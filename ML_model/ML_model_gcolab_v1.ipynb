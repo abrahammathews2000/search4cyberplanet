{
  "nbformat": 4,
  "nbformat_minor": 0,
  "metadata": {
    "colab": {
      "provenance": [],
      "authorship_tag": "ABX9TyO8ukLY3XpJqwE0YdTo1sjW",
      "include_colab_link": true
    },
    "kernelspec": {
      "name": "python3",
      "display_name": "Python 3"
    },
    "language_info": {
      "name": "python"
    }
  },
  "cells": [
    {
      "cell_type": "markdown",
      "metadata": {
        "id": "view-in-github",
        "colab_type": "text"
      },
      "source": [
        "<a href=\"https://colab.research.google.com/github/abrahammathews2000/search4cyberplanet/blob/main/ML_model/ML_model_gcolab_v1.ipynb\" target=\"_parent\"><img src=\"https://colab.research.google.com/assets/colab-badge.svg\" alt=\"Open In Colab\"/></a>"
      ]
    },
    {
      "cell_type": "code",
      "execution_count": null,
      "metadata": {
        "id": "2WwUXWcCG4lA"
      },
      "outputs": [],
      "source": [
        "import numpy as np\n",
        "import tensorflow as tf\n",
        "from tensorflow import keras\n",
        "from keras import layers\n",
        "from PIL import Image\n",
        "from sklearn.model_selection import train_test_split\n",
        "import matplotlib.pyplot as plt"
      ]
    },
    {
      "cell_type": "code",
      "source": [
        "# dir = '/content/drive/MyDrive/msAstroDataProject/'\n",
        "x_dir  = '/content/drive/MyDrive/msAstroDataProject/lc_dict.npy'\n",
        "x = np.load(x_dir)\n",
        "\n",
        "y_dir  = '/content/drive/MyDrive/msAstroDataProject/shape_dict.npy'\n",
        "y = np.load(y_dir)\n",
        "y = y/255.0\n"
      ],
      "metadata": {
        "id": "NzCqUg9rIN2u"
      },
      "execution_count": null,
      "outputs": []
    }
  ]
}